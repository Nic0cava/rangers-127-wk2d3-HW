{
 "cells": [
  {
   "cell_type": "code",
   "execution_count": 17,
   "id": "9bc56b2f-c028-4129-9bd8-a007362afda2",
   "metadata": {},
   "outputs": [
    {
     "name": "stdout",
     "output_type": "stream",
     "text": [
      "CATA\n"
     ]
    }
   ],
   "source": [
    "\n",
    "#dict = { 'A' : 'T' , 'C' : 'G' }\n",
    "def my_func(dna):\n",
    "    s = ''\n",
    "    for i in dna:\n",
    "        if i == 'A':\n",
    "           s += ('T')\n",
    "        elif i == 'C':\n",
    "            s += ('G')\n",
    "        elif i == 'T':\n",
    "            s += ('A')\n",
    "        elif i == 'G':\n",
    "            s += ('C')\n",
    "    return s\n",
    "            \n",
    "dna = \"GTAT\"\n",
    "print(my_func(dna))\n",
    "        \n"
   ]
  },
  {
   "cell_type": "code",
   "execution_count": 2,
   "id": "cfd43722-f5b3-4394-9c81-fd1df06964f1",
   "metadata": {},
   "outputs": [
    {
     "name": "stdout",
     "output_type": "stream",
     "text": [
      "{17, 3}\n"
     ]
    }
   ],
   "source": [
    "list = [17, 17, 3, 17, 17, 17, 17]\n",
    "new_list = set(list)\n",
    "print(new_list)"
   ]
  },
  {
   "cell_type": "code",
   "execution_count": 3,
   "id": "7c7995cf-0026-4f64-a256-11c249a20dfd",
   "metadata": {},
   "outputs": [
    {
     "name": "stdout",
     "output_type": "stream",
     "text": [
      "[17, 3]\n"
     ]
    }
   ],
   "source": [
    "list = [17, 17, 3, 17, 17, 17, 17]\n",
    "\n",
    "new_list = []\n",
    "for num in list:\n",
    "    if num not in new_list:\n",
    "        new_list.append(num)\n",
    "\n",
    "print(new_list)"
   ]
  },
  {
   "cell_type": "code",
   "execution_count": 11,
   "id": "bef83d08-5a43-480e-9947-f3e8e19f0aca",
   "metadata": {},
   "outputs": [
    {
     "name": "stdout",
     "output_type": "stream",
     "text": [
      "[3]\n"
     ]
    }
   ],
   "source": [
    "list = [17, 17, 3, 17, 17, 17, 17]\n",
    "\n",
    "new_list = []\n",
    "for num in list:\n",
    "    if list.count(num) == 1:\n",
    "        new_list.append(num)\n",
    "\n",
    "print(new_list)"
   ]
  },
  {
   "cell_type": "code",
   "execution_count": 14,
   "id": "92f5c574-dca6-4d45-9325-5e4f1d613f59",
   "metadata": {},
   "outputs": [
    {
     "ename": "NameError",
     "evalue": "name 'numbers' is not defined",
     "output_type": "error",
     "traceback": [
      "\u001b[0;31m---------------------------------------------------------------------------\u001b[0m",
      "\u001b[0;31mNameError\u001b[0m                                 Traceback (most recent call last)",
      "Cell \u001b[0;32mIn[14], line 9\u001b[0m\n\u001b[1;32m      6\u001b[0m     \u001b[38;5;28;01melse\u001b[39;00m:\n\u001b[1;32m      7\u001b[0m         \u001b[38;5;28;01mreturn\u001b[39;00m numbers[\u001b[38;5;241m-\u001b[39m\u001b[38;5;241m1\u001b[39m]\n\u001b[0;32m----> 9\u001b[0m \u001b[38;5;28mprint\u001b[39m(\u001b[43mmine\u001b[49m\u001b[43m(\u001b[49m\u001b[43m[\u001b[49m\u001b[38;5;241;43m1\u001b[39;49m\u001b[43m,\u001b[49m\u001b[43m \u001b[49m\u001b[38;5;241;43m1\u001b[39;49m\u001b[43m,\u001b[49m\u001b[43m \u001b[49m\u001b[38;5;241;43m2\u001b[39;49m\u001b[43m]\u001b[49m\u001b[43m)\u001b[49m)\n",
      "Cell \u001b[0;32mIn[14], line 2\u001b[0m, in \u001b[0;36mmine\u001b[0;34m(a_list)\u001b[0m\n\u001b[1;32m      1\u001b[0m \u001b[38;5;28;01mdef\u001b[39;00m \u001b[38;5;21mmine\u001b[39m(a_list):\n\u001b[0;32m----> 2\u001b[0m     \u001b[43mnumbers\u001b[49m\u001b[38;5;241m.\u001b[39msort()\n\u001b[1;32m      4\u001b[0m     \u001b[38;5;28;01mif\u001b[39;00m numbers[\u001b[38;5;241m0\u001b[39m] \u001b[38;5;241m==\u001b[39m numbers[\u001b[38;5;241m1\u001b[39m]:\n\u001b[1;32m      5\u001b[0m         \u001b[38;5;28;01mreturn\u001b[39;00m numbers[\u001b[38;5;241m0\u001b[39m]\n",
      "\u001b[0;31mNameError\u001b[0m: name 'numbers' is not defined"
     ]
    }
   ],
   "source": [
    "def mine(a_list):\n",
    "    numbers.sort()\n",
    "\n",
    "    if numbers[0] == numbers[1]:\n",
    "        return numbers[0]\n",
    "    else:\n",
    "        return numbers[-1]\n",
    "\n",
    "print(mine([1, 1, 2]))"
   ]
  },
  {
   "cell_type": "code",
   "execution_count": null,
   "id": "21d5b948-96d6-41e9-81f3-351edd62af78",
   "metadata": {},
   "outputs": [],
   "source": []
  }
 ],
 "metadata": {
  "kernelspec": {
   "display_name": "Python 3 (ipykernel)",
   "language": "python",
   "name": "python3"
  },
  "language_info": {
   "codemirror_mode": {
    "name": "ipython",
    "version": 3
   },
   "file_extension": ".py",
   "mimetype": "text/x-python",
   "name": "python",
   "nbconvert_exporter": "python",
   "pygments_lexer": "ipython3",
   "version": "3.11.4"
  }
 },
 "nbformat": 4,
 "nbformat_minor": 5
}
