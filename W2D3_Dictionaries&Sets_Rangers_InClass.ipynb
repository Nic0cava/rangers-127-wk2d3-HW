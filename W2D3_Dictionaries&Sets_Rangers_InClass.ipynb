{
 "cells": [
  {
   "cell_type": "markdown",
   "metadata": {},
   "source": [
    "# Dictionaries & Sets"
   ]
  },
  {
   "cell_type": "markdown",
   "metadata": {},
   "source": [
    "## Tasks Today:\n",
    "\n",
    "1) Dictionary <br>\n",
    " &nbsp;&nbsp;&nbsp;&nbsp; a) Declaring (key, value) <br>\n",
    " &nbsp;&nbsp;&nbsp;&nbsp; b) Accessing Values <br>\n",
    " &nbsp;&nbsp;&nbsp;&nbsp; ------ Exercise #1 - Print the eye color of each person in a double nested dict <br>\n",
    " &nbsp;&nbsp;&nbsp;&nbsp; c) Adding New Pairs <br>\n",
    " &nbsp;&nbsp;&nbsp;&nbsp; d) Modifying Values <br>\n",
    " &nbsp;&nbsp;&nbsp;&nbsp; e) Removing Key, Value Pairs <br>\n",
    " &nbsp;&nbsp;&nbsp;&nbsp; f) Looping a Dictionary <br>\n",
    " &nbsp;&nbsp;&nbsp;&nbsp; g) Looping Only Keys <br>\n",
    " &nbsp;&nbsp;&nbsp;&nbsp; h) Looping Only Values <br>\n",
    " &nbsp;&nbsp;&nbsp;&nbsp; ------ Exercise #2 - Create a Function that Prints All Key Value Pairs within a print .format()  <br>\n",
    " &nbsp;&nbsp;&nbsp;&nbsp; i) sorted() <br>\n",
    " &nbsp;&nbsp;&nbsp;&nbsp; j) Lists with Dictionaries <br>\n",
    " &nbsp;&nbsp;&nbsp;&nbsp; k) Dictionaries with Lists <br>\n",
    " &nbsp;&nbsp;&nbsp;&nbsp; l) Dictionaries with Dictionaries <br>\n",
    " &nbsp;&nbsp;&nbsp;&nbsp; ------ Exercise #3 - Write a Function that asks someone's name and address, and then stores that into a dictionary, which prints all names and addresses after they're done putting information in...  <br>\n",
    "2) Dictionaries vs. Lists (over time)<br>\n",
    "3) Set <br>\n",
    " &nbsp;&nbsp;&nbsp;&nbsp; a) Declaring <br>\n",
    " &nbsp;&nbsp;&nbsp;&nbsp; b) .add() <br>\n",
    " &nbsp;&nbsp;&nbsp;&nbsp; c) .remove() <br>\n",
    " &nbsp;&nbsp;&nbsp;&nbsp; d) .union() <br>\n",
    " &nbsp;&nbsp;&nbsp;&nbsp; e) .intersection() <br>\n",
    " &nbsp;&nbsp;&nbsp;&nbsp; f) .difference() <br>\n",
    " &nbsp;&nbsp;&nbsp;&nbsp; g) Frozen Set <br>\n",
    "4) Exercises <br>\n",
    " &nbsp;&nbsp;&nbsp;&nbsp; a) Build a Shopping Cart <br>\n",
    " &nbsp;&nbsp;&nbsp;&nbsp; b) Create Your Own Module <br>"
   ]
  },
  {
   "cell_type": "markdown",
   "metadata": {},
   "source": [
    "## Dictionary <br>\n",
    "<p>A collection of data with 'key:value' pairs. Dictionaries are ordered as of Python 3.6</p>"
   ]
  },
  {
   "cell_type": "markdown",
   "metadata": {},
   "source": [
    "##### Declaring (key, value)"
   ]
  },
  {
   "cell_type": "code",
   "execution_count": 1,
   "metadata": {},
   "outputs": [
    {
     "name": "stdout",
     "output_type": "stream",
     "text": [
      "{}\n"
     ]
    }
   ],
   "source": [
    "# keys should be unique\n",
    "# can use numbers or strings as keys\n",
    "\n",
    "d_1 = {}\n",
    "\n",
    "# or\n",
    "\n",
    "d_2 = dict()\n",
    "\n",
    "# d_2[\"some\"] = \"value\"\n",
    "print(d_2)\n",
    "\n",
    "d_3 = {\n",
    "    \"Tom\" : \"255 Main Street\",\n",
    "    \"Jerry\" : \"256 Main Street\",\n",
    "    0 : \"This is a 0\",\n",
    "}\n",
    "\n",
    "\n",
    "\n"
   ]
  },
  {
   "cell_type": "markdown",
   "metadata": {},
   "source": [
    "##### Accessing Values"
   ]
  },
  {
   "cell_type": "code",
   "execution_count": 2,
   "metadata": {},
   "outputs": [
    {
     "name": "stdout",
     "output_type": "stream",
     "text": [
      "255 Main Street\n",
      "256 Main Street\n",
      "This is a 0\n"
     ]
    }
   ],
   "source": [
    "# dict[key]\n",
    "\n",
    "print(d_3[\"Tom\"])\n",
    "print(d_3[\"Jerry\"])\n",
    "print(d_3[0]) #this is accessing the KEY of 0 not the index location of 0"
   ]
  },
  {
   "cell_type": "code",
   "execution_count": 3,
   "metadata": {},
   "outputs": [
    {
     "name": "stdout",
     "output_type": "stream",
     "text": [
      "255 Main Street\n"
     ]
    }
   ],
   "source": [
    "#dict.get(key, value)\n",
    "\n",
    "print(d_3.get(\"Tom\"))"
   ]
  },
  {
   "cell_type": "markdown",
   "metadata": {},
   "source": [
    "## In-Class Exercise #1 - Print a formatted statement from the dictionary below <br>\n",
    "<p>The output should be '2018 Chevrolet Silverado'</p>"
   ]
  },
  {
   "cell_type": "code",
   "execution_count": 11,
   "metadata": {},
   "outputs": [
    {
     "name": "stdout",
     "output_type": "stream",
     "text": [
      "2018 Chevrolet Silverado\n"
     ]
    }
   ],
   "source": [
    "# use the dict below\n",
    "truck = {\n",
    "    \"year\": 2018,\n",
    "    'make': 'Chevrolet',\n",
    "    'model': 'Silverado'\n",
    "}\n",
    "\n",
    "print(truck[\"year\"], truck['make'], truck['model'])\n",
    "\n",
    "\n",
    "\n"
   ]
  },
  {
   "cell_type": "markdown",
   "metadata": {},
   "source": [
    "##### Adding New Pairs"
   ]
  },
  {
   "cell_type": "code",
   "execution_count": 12,
   "metadata": {},
   "outputs": [
    {
     "name": "stdout",
     "output_type": "stream",
     "text": [
      "{'Tom': '255 Main Street', 'Jerry': '256 Main Street', 0: 'This is a 0', 'Alex': '123 Really Cool Street'}\n"
     ]
    }
   ],
   "source": [
    "# dict[key] = value\n",
    "d_3 = {\n",
    "    \"Tom\" : \"255 Main Street\",\n",
    "    \"Jerry\" : \"256 Main Street\",\n",
    "    0 : \"This is a 0\",\n",
    "}\n",
    "\n",
    "d_3[\"Alex\"] = '123 Really Cool Street'\n",
    "\n",
    "print(d_3)\n",
    "\n"
   ]
  },
  {
   "cell_type": "markdown",
   "metadata": {},
   "source": [
    "##### Modifying Values"
   ]
  },
  {
   "cell_type": "code",
   "execution_count": 13,
   "metadata": {},
   "outputs": [
    {
     "name": "stdout",
     "output_type": "stream",
     "text": [
      "{'Tom': '255 Main Street', 'Jerry': '256 Main Street', 0: 'This is a 0', 'Alex': '124 Really Cool Street'}\n"
     ]
    }
   ],
   "source": [
    "# dict[key] = value\n",
    "d_3[\"Alex\"] = '124 Really Cool Street'\n",
    "\n",
    "print(d_3)\n"
   ]
  },
  {
   "cell_type": "markdown",
   "metadata": {},
   "source": [
    "##### Removing Key, Value Pairs"
   ]
  },
  {
   "cell_type": "code",
   "execution_count": null,
   "metadata": {},
   "outputs": [],
   "source": [
    "# del dict[key]\n",
    "# del(my_list[0]) difference between list del and dict del is:\n",
    "# the list del(wraps the list in parentheses)\n",
    "\n",
    "\n",
    "\n"
   ]
  },
  {
   "cell_type": "markdown",
   "metadata": {},
   "source": [
    "##### Looping a Dictionary"
   ]
  },
  {
   "cell_type": "code",
   "execution_count": 14,
   "metadata": {},
   "outputs": [
    {
     "name": "stdout",
     "output_type": "stream",
     "text": [
      "Tom lives at 255 Main Street\n",
      "Jerry lives at 256 Main Street\n",
      "0 lives at This is a 0\n"
     ]
    }
   ],
   "source": [
    "# .items()\n",
    "# a, b, c = 1, 2, 3\n",
    "d_3 = {\n",
    "    \"Tom\" : \"255 Main Street\",\n",
    "    \"Jerry\" : \"256 Main Street\",\n",
    "    0 : \"This is a 0\",\n",
    "}\n",
    "\n",
    "\n",
    "\n",
    "for key, value in d_3.items(): #definitely memorize  .items()\n",
    "    print(f\"{key} lives at {value}\")"
   ]
  },
  {
   "cell_type": "markdown",
   "metadata": {},
   "source": [
    "##### Looping Only Keys"
   ]
  },
  {
   "cell_type": "code",
   "execution_count": null,
   "metadata": {},
   "outputs": [],
   "source": [
    "# .keys()\n"
   ]
  },
  {
   "cell_type": "markdown",
   "metadata": {},
   "source": [
    "##### Looping Only Values"
   ]
  },
  {
   "cell_type": "code",
   "execution_count": null,
   "metadata": {
    "scrolled": true
   },
   "outputs": [],
   "source": [
    "# .values()\n",
    "for value in d_3.values():\n",
    "    print(value)\n",
    "\n"
   ]
  },
  {
   "cell_type": "markdown",
   "metadata": {},
   "source": [
    "## In-Class Exercise #2 - Create a Function that Prints All Key Value Pairs within a formatted string  <br>\n",
    "<p><b>Output should be:</b><br>\n",
    "Max has blue eyes<br>\n",
    "Lilly has brown eyes<br>\n",
    "Barney has blue eyes<br>\n",
    "etc.\n",
    "</p>"
   ]
  },
  {
   "cell_type": "code",
   "execution_count": 16,
   "metadata": {},
   "outputs": [
    {
     "name": "stdout",
     "output_type": "stream",
     "text": [
      "Max has blue eyes\n",
      "Lilly has brown eyes\n",
      "Barney has green eyes\n",
      "Ted has purple eyes\n",
      "Sasuke has sharingan eyes\n"
     ]
    }
   ],
   "source": [
    "# use the dict below\n",
    "people = {\n",
    "    'Max' : 'blue',\n",
    "    'Lilly' : 'brown',\n",
    "    'Barney' : 'green',\n",
    "    'Ted' : 'purple',\n",
    "    'Sasuke' : 'sharingan'    \n",
    "} \n",
    "\n",
    "for key, value in people.items():\n",
    "    print(f\"{key} has {value} eyes\")\n",
    "\n",
    "\n"
   ]
  },
  {
   "cell_type": "code",
   "execution_count": 18,
   "metadata": {},
   "outputs": [
    {
     "name": "stdout",
     "output_type": "stream",
     "text": [
      "[('Max', 'blue'), ('Lilly', 'brown'), ('Barney', 'green'), ('Ted', 'purple'), ('Sasuke', 'sharingan')]\n"
     ]
    }
   ],
   "source": [
    "print(list(people.items()))"
   ]
  },
  {
   "cell_type": "markdown",
   "metadata": {},
   "source": [
    "##### sorted()"
   ]
  },
  {
   "cell_type": "code",
   "execution_count": 21,
   "metadata": {},
   "outputs": [
    {
     "name": "stdout",
     "output_type": "stream",
     "text": [
      "[('Barney', 'green'), ('Lilly', 'brown'), ('Max', 'blue'), ('Sasuke', 'sharingan'), ('Ted', 'purple')]\n",
      "['Barney', 'Lilly', 'Max', 'Sasuke', 'Ted']\n",
      "['blue', 'brown', 'green', 'purple', 'sharingan']\n",
      "['Max', 'Ted', 'Lilly', 'Barney', 'Sasuke']\n"
     ]
    }
   ],
   "source": [
    "# sorts variables in order\n",
    "# sorted(dict.values()) or dict.keys() or dict.items()\n",
    "print(sorted(people.items())) #sorts on key\n",
    "\n",
    "print(sorted(people.keys())) \n",
    "\n",
    "print(sorted(people.values())) \n",
    "\n",
    "print(sorted(people.keys(), key = len)) "
   ]
  },
  {
   "cell_type": "code",
   "execution_count": 22,
   "metadata": {},
   "outputs": [
    {
     "name": "stdout",
     "output_type": "stream",
     "text": [
      "{'Barney': 'green', 'Lilly': 'brown', 'Max': 'blue', 'Sasuke': 'sharingan', 'Ted': 'purple'}\n"
     ]
    }
   ],
   "source": [
    "print(dict(sorted(people.items())))"
   ]
  },
  {
   "cell_type": "markdown",
   "metadata": {},
   "source": [
    "##### List with Dictionaries"
   ]
  },
  {
   "cell_type": "code",
   "execution_count": 24,
   "metadata": {},
   "outputs": [
    {
     "name": "stdout",
     "output_type": "stream",
     "text": [
      "['Shikamaru', 'Gaara', 'OctoPops', {'leaf_village': 'Naruto', 'leaf_village2': 'Kakashi'}]\n",
      "Naruto\n"
     ]
    }
   ],
   "source": [
    "\n",
    "shinobi = ['Shikamaru', 'Gaara', 'OctoPops', {\"leaf_village\": \"Naruto\", \"leaf_village2\" : \"Kakashi\"}]\n",
    "\n",
    "print(shinobi)\n",
    "\n",
    "print(shinobi[-1]['leaf_village'])"
   ]
  },
  {
   "cell_type": "markdown",
   "metadata": {},
   "source": [
    "##### Dictionaries with Lists"
   ]
  },
  {
   "cell_type": "code",
   "execution_count": 31,
   "metadata": {},
   "outputs": [
    {
     "name": "stdout",
     "output_type": "stream",
     "text": [
      "Jason\n",
      "3\n"
     ]
    }
   ],
   "source": [
    "# be careful when using numbers as keys in dictionaries, don't confuse them with indexes\n",
    "\n",
    "random_data = {\n",
    "    \"numbers\" : [1, 2, 3],\n",
    "    \"names\" : ['Jason', 'Devante', random_data['numbers'], 'Mathew']\n",
    "}\n",
    "\n",
    "print(random_data['names'][0])\n",
    "\n",
    "print(random_data['names'][-2][-1])"
   ]
  },
  {
   "cell_type": "markdown",
   "metadata": {},
   "source": [
    "##### Dictionaries with Dictionaries"
   ]
  },
  {
   "cell_type": "code",
   "execution_count": 40,
   "metadata": {
    "scrolled": true
   },
   "outputs": [
    {
     "name": "stdout",
     "output_type": "stream",
     "text": [
      "Ramen\n"
     ]
    }
   ],
   "source": [
    "# to get values, must traverse through keys\n",
    "food_dict = {\n",
    "    'Alex' : {\n",
    "        'dessert' : ['fruit tarts', 'cupcakes', 'ice cream'],\n",
    "        'more desserts' : ['cake', 'ice cream cake', 'pastry']\n",
    "    },\n",
    "    'Leza' : {\n",
    "        'cuisine' : ['Indian', 'Greek', 'Italian'],\n",
    "        'desserts' : ['tiramisu', 'baklava', 'cookies']\n",
    "    },\n",
    "    'Matt' : {\n",
    "        'pizza': ['thin crust','Giordanos', 'Dominoes'],\n",
    "        'tacos': ['actual mexican food','Taco Bell','Chipotle'],\n",
    "    },\n",
    "     'Jeremy':{\n",
    "        'dinner':['pizza', 'hotdogs'],\n",
    "        'desserts':['ice cream', 'cobbler']\n",
    "    },\n",
    "     \"Kenai\" : {\n",
    "        \"southern\" : [\"jambalaya\", \"gumbo\"],\n",
    "        \"desserts\" : [\"peach cobbler\", \"red velvet cake\", \"7-up cake\"]\n",
    "     },\n",
    "    \"Priscilla\" :{\n",
    "        'brunch' : ['eggs' , 'bacon' , 'toast', 'mimosa' , 'homefries', 'pancakes', 'chicken' ],\n",
    "        \"more brunch\" : [ 'sausage' , 'waffles' , 'orange' ]\n",
    "    },\n",
    "    \"Jason\" : {\n",
    "        \"Meals\" : [\"Crab Legs\", \"Cheesesteak\", \"Pizza\"],\n",
    "        \"Snacks\" : [\"Acai Bowl\" \"Granola\", \"Almond\"]\n",
    "    },\n",
    "    'Nico':{\n",
    "        'dessert' : ['lava cake', 'fried oreos', 'rice pudding'],\n",
    "        'dinner' : ['crab legs', 'ramen', 'sushi']\n",
    "    },\n",
    "    'Luis' : {\n",
    "        'veggies' : ['tomato', 'onion', 'pepper', 'asparagus'],\n",
    "        'breakfast' : [ 'eggs', 'waffles']\n",
    "    } \n",
    "}\n",
    "\n",
    "print(food_dict['Nico']['dinner'][1].title())\n"
   ]
  },
  {
   "cell_type": "code",
   "execution_count": 43,
   "metadata": {},
   "outputs": [
    {
     "name": "stdout",
     "output_type": "stream",
     "text": [
      "These are all of Priscilla's fav foods\n",
      "brunch\n",
      "\teggs\n",
      "\tbacon\n",
      "\ttoast\n",
      "\tmimosa\n",
      "\thomefries\n",
      "\tpancakes\n",
      "\tchicken\n",
      "more brunch\n",
      "\tsausage\n",
      "\twaffles\n",
      "\torange\n"
     ]
    }
   ],
   "source": [
    "print(\"These are all of Priscilla's fav foods\")\n",
    "\n",
    "for cuisine, foods in food_dict['Priscilla'].items():\n",
    "    print(cuisine)\n",
    "    for food in foods:\n",
    "        print(f\"\\t{food}\") # \"\\t\" <-- tab "
   ]
  },
  {
   "cell_type": "code",
   "execution_count": 45,
   "metadata": {},
   "outputs": [
    {
     "name": "stdout",
     "output_type": "stream",
     "text": [
      "Here are ALL our favorite foods: \n",
      "\n",
      "Alex fave foods are:\n",
      "\tdessert\n",
      "\t\tfruit tarts\n",
      "\t\tcupcakes\n",
      "\t\tice cream\n",
      "\n",
      "\n",
      "\tmore desserts\n",
      "\t\tcake\n",
      "\t\tice cream cake\n",
      "\t\tpastry\n",
      "\n",
      "\n",
      "Leza fave foods are:\n",
      "\tcuisine\n",
      "\t\tIndian\n",
      "\t\tGreek\n",
      "\t\tItalian\n",
      "\n",
      "\n",
      "\tdesserts\n",
      "\t\ttiramisu\n",
      "\t\tbaklava\n",
      "\t\tcookies\n",
      "\n",
      "\n",
      "Matt fave foods are:\n",
      "\tpizza\n",
      "\t\tthin crust\n",
      "\t\tGiordanos\n",
      "\t\tDominoes\n",
      "\n",
      "\n",
      "\ttacos\n",
      "\t\tactual mexican food\n",
      "\t\tTaco Bell\n",
      "\t\tChipotle\n",
      "\n",
      "\n",
      "Jeremy fave foods are:\n",
      "\tdinner\n",
      "\t\tpizza\n",
      "\t\thotdogs\n",
      "\n",
      "\n",
      "\tdesserts\n",
      "\t\tice cream\n",
      "\t\tcobbler\n",
      "\n",
      "\n",
      "Kenai fave foods are:\n",
      "\tsouthern\n",
      "\t\tjambalaya\n",
      "\t\tgumbo\n",
      "\n",
      "\n",
      "\tdesserts\n",
      "\t\tpeach cobbler\n",
      "\t\tred velvet cake\n",
      "\t\t7-up cake\n",
      "\n",
      "\n",
      "Priscilla fave foods are:\n",
      "\tbrunch\n",
      "\t\teggs\n",
      "\t\tbacon\n",
      "\t\ttoast\n",
      "\t\tmimosa\n",
      "\t\thomefries\n",
      "\t\tpancakes\n",
      "\t\tchicken\n",
      "\n",
      "\n",
      "\tmore brunch\n",
      "\t\tsausage\n",
      "\t\twaffles\n",
      "\t\torange\n",
      "\n",
      "\n",
      "Jason fave foods are:\n",
      "\tMeals\n",
      "\t\tCrab Legs\n",
      "\t\tCheesesteak\n",
      "\t\tPizza\n",
      "\n",
      "\n",
      "\tSnacks\n",
      "\t\tAcai BowlGranola\n",
      "\t\tAlmond\n",
      "\n",
      "\n",
      "Nico fave foods are:\n",
      "\tdessert\n",
      "\t\tlava cake\n",
      "\t\tfried oreos\n",
      "\t\trice pudding\n",
      "\n",
      "\n",
      "\tdinner\n",
      "\t\tcrab legs\n",
      "\t\tramen\n",
      "\t\tsushi\n",
      "\n",
      "\n",
      "Luis fave foods are:\n",
      "\tveggies\n",
      "\t\ttomato\n",
      "\t\tonion\n",
      "\t\tpepper\n",
      "\t\tasparagus\n",
      "\n",
      "\n",
      "\tbreakfast\n",
      "\t\teggs\n",
      "\t\twaffles\n",
      "\n",
      "\n"
     ]
    }
   ],
   "source": [
    "print(\"Here are ALL our favorite foods: \\n\")\n",
    "\n",
    "for name in food_dict.keys():\n",
    "    print(f\"{name} fave foods are:\")\n",
    "\n",
    "    for cuisine, foods in food_dict[name].items():\n",
    "        print(f\"\\t{cuisine}\")\n",
    "        for food in foods:\n",
    "            print(f\"\\t\\t{food}\")\n",
    "        print('\\n')"
   ]
  },
  {
   "cell_type": "markdown",
   "metadata": {},
   "source": [
    "## Dictionaries vs. Lists (over time) Example of RUNTIME\n",
    "### When inputting values in a Dictionary vs List"
   ]
  },
  {
   "cell_type": "code",
   "execution_count": 48,
   "metadata": {},
   "outputs": [],
   "source": [
    "import time\n",
    "\n",
    "#generate dictionary\n",
    "d = {}\n",
    "\n",
    "for i in range(1000):\n",
    "    d[i] = \"value\" + str(i)\n",
    "\n",
    "#print(d)\n",
    "\n",
    "big_list = [x for x in range(1000)]\n",
    "\n",
    "    \n",
    "\n",
    "    \n",
    "\n"
   ]
  },
  {
   "cell_type": "code",
   "execution_count": 52,
   "metadata": {},
   "outputs": [
    {
     "ename": "KeyError",
     "evalue": "999",
     "output_type": "error",
     "traceback": [
      "\u001b[0;31m---------------------------------------------------------------------------\u001b[0m",
      "\u001b[0;31mKeyError\u001b[0m                                  Traceback (most recent call last)",
      "Cell \u001b[0;32mIn[52], line 5\u001b[0m\n\u001b[1;32m      1\u001b[0m \u001b[38;5;66;03m#track the time for the dictionary\u001b[39;00m\n\u001b[1;32m      3\u001b[0m start_time \u001b[38;5;241m=\u001b[39m time\u001b[38;5;241m.\u001b[39mtime()\n\u001b[0;32m----> 5\u001b[0m \u001b[38;5;28mprint\u001b[39m(\u001b[43md\u001b[49m\u001b[43m[\u001b[49m\u001b[38;5;241;43m999\u001b[39;49m\u001b[43m]\u001b[49m)\n\u001b[1;32m      7\u001b[0m end_time \u001b[38;5;241m=\u001b[39m time\u001b[38;5;241m.\u001b[39mtime() \u001b[38;5;241m-\u001b[39m start_time\n\u001b[1;32m      9\u001b[0m \u001b[38;5;28mprint\u001b[39m(\u001b[38;5;124mf\u001b[39m\u001b[38;5;124m\"\u001b[39m\u001b[38;5;124melapsed time for dictionary: \u001b[39m\u001b[38;5;132;01m{\u001b[39;00mend_time\u001b[38;5;132;01m}\u001b[39;00m\u001b[38;5;124m\"\u001b[39m)\n",
      "\u001b[0;31mKeyError\u001b[0m: 999"
     ]
    }
   ],
   "source": [
    "#track the time for the dictionary\n",
    "\n",
    "start_time = time.time()\n",
    "\n",
    "print(d[999])\n",
    "\n",
    "end_time = time.time() - start_time\n",
    "\n",
    "print(f\"elapsed time for dictionary: {end_time}\")\n",
    "\n",
    "start_time = time.time()\n",
    "\n",
    "for i in range(len(big_list)):\n",
    "    if i == 999:\n",
    "        print(i)\n",
    "\n",
    "end_time = time.time() - start_time\n",
    "\n",
    "print(f\"elaped time for list: {end_time}\")\n",
    "        "
   ]
  },
  {
   "cell_type": "markdown",
   "metadata": {},
   "source": [
    "## Exercise #3 - Write a Function that asks someone's name and address, and then stores that into a dictionary, and continues to do so until they choose to 'quit'. Once they quit, the program should print all names and addresses. <br>\n",
    "<p>\n",
    "<b>Proper steps:</b><br>\n",
    "step 1: write a function that takes in information and stores it in a dictionary<br>\n",
    "step 2: define an empty dictionary to work with<br>\n",
    "step 3: create our loop, which asks the user for information until they quit<br>\n",
    "step 4: ask for the information, and store it into variables<br>\n",
    "step 5: check if the user types quit<br>\n",
    "step 5a: print out all information<br>\n",
    "step 5b: break out of the loop<br>\n",
    "step 6: if they didn't quit, add the information to the dictionary<br>\n",
    "step 7: invoke the function by calling it\n",
    "</p>"
   ]
  },
  {
   "cell_type": "code",
   "execution_count": 54,
   "metadata": {},
   "outputs": [
    {
     "name": "stdout",
     "output_type": "stream",
     "text": [
      "what is your name? Type 'quit' to quit! Nico\n",
      "What is your address? Type 'quit' to quit! 12345\n",
      "what is your name? Type 'quit' to quit! quit\n"
     ]
    },
    {
     "name": "stdout",
     "output_type": "stream",
     "text": [
      "Nico lives at this addresss 12345\n"
     ]
    }
   ],
   "source": [
    "from IPython.display import clear_output\n",
    "\n",
    "people_info = {}\n",
    "\n",
    "while True:\n",
    "\n",
    "    name = input(\"what is your name? Type 'quit' to quit!\")\n",
    "    if name.lower().strip() != 'quit':\n",
    "        address = input(\"What is your address? Type 'quit' to quit!\")\n",
    "\n",
    "    if name.lower().strip() == 'quit' or address.lower().strip() == 'quit' :\n",
    "        for name, address in people_info.items():\n",
    "            print(f\"{name} lives at this addresss {address}\")\n",
    "        break\n",
    "        \n",
    "\n",
    "    people_info[name] = address\n",
    "        \n",
    "        "
   ]
  },
  {
   "cell_type": "code",
   "execution_count": 55,
   "metadata": {},
   "outputs": [
    {
     "name": "stdout",
     "output_type": "stream",
     "text": [
      "what is your name? Type 'quit' to quit! nico\n",
      "What is your address? Type 'quit' to quit! 1234\n",
      "what is your name? Type 'quit' to quit! quit\n"
     ]
    },
    {
     "name": "stdout",
     "output_type": "stream",
     "text": [
      "Nico lives at this addresss 12345\n",
      "nico lives at this addresss 1234\n"
     ]
    }
   ],
   "source": [
    "#creating our program inside of a function\n",
    "\n",
    "def store_info():\n",
    "    people_info = {}\n",
    "\n",
    "    while True:\n",
    "    \n",
    "        name = input(\"what is your name? Type 'quit' to quit!\")\n",
    "        if name.lower().strip() != 'quit':\n",
    "            address = input(\"What is your address? Type 'quit' to quit!\")\n",
    "    \n",
    "        if name.lower().strip() == 'quit' or address.lower().strip() == 'quit' :\n",
    "            for name, address in people_info.items():\n",
    "                print(f\"{name} lives at this addresss {address}\")\n",
    "            break\n",
    "            \n",
    "    \n",
    "        people_info[name] = address\n",
    "\n",
    "store_info()\n",
    "        \n",
    "        \n"
   ]
  },
  {
   "cell_type": "markdown",
   "metadata": {},
   "source": [
    "## Set <br>\n",
    "<p>A Set is an unordered collection data type that is iterable (loop), mutable, and has no duplicate elements.<br>Major advantage is that it is highly optimized in checking if something is in the set, as opposed to checking if something is in a list.</p>"
   ]
  },
  {
   "cell_type": "markdown",
   "metadata": {},
   "source": [
    "##### Declaring"
   ]
  },
  {
   "cell_type": "code",
   "execution_count": 58,
   "metadata": {},
   "outputs": [
    {
     "name": "stdout",
     "output_type": "stream",
     "text": [
      "{8, 1, 4}\n",
      "{1, 2, 3, 5, 7, 8}\n"
     ]
    }
   ],
   "source": [
    "# set() or {}\n",
    "# no order {3, 2, 1} outputs as {1, 2, 3}\n",
    "#set removes duplicats\n",
    "#are super fast just like dictionaries \n",
    "\n",
    "my_set = { 4, 1, 8, 4}\n",
    "\n",
    "print(my_set)\n",
    "\n",
    "my_list = [1, 1, 1, 1, 2, 3, 5, 7, 5, 8, 1, 5]\n",
    "my_set2 = set(my_list)\n",
    "print(my_set2)"
   ]
  },
  {
   "cell_type": "code",
   "execution_count": 59,
   "metadata": {
    "scrolled": true
   },
   "outputs": [
    {
     "name": "stdout",
     "output_type": "stream",
     "text": [
      "['__and__', '__class__', '__class_getitem__', '__contains__', '__delattr__', '__dir__', '__doc__', '__eq__', '__format__', '__ge__', '__getattribute__', '__getstate__', '__gt__', '__hash__', '__iand__', '__init__', '__init_subclass__', '__ior__', '__isub__', '__iter__', '__ixor__', '__le__', '__len__', '__lt__', '__ne__', '__new__', '__or__', '__rand__', '__reduce__', '__reduce_ex__', '__repr__', '__ror__', '__rsub__', '__rxor__', '__setattr__', '__sizeof__', '__str__', '__sub__', '__subclasshook__', '__xor__', 'add', 'clear', 'copy', 'difference', 'difference_update', 'discard', 'intersection', 'intersection_update', 'isdisjoint', 'issubset', 'issuperset', 'pop', 'remove', 'symmetric_difference', 'symmetric_difference_update', 'union', 'update']\n"
     ]
    }
   ],
   "source": [
    "#remove all duplicates from the list\n",
    "print(dir(my_set))"
   ]
  },
  {
   "cell_type": "markdown",
   "metadata": {},
   "source": [
    "##### .add()"
   ]
  },
  {
   "cell_type": "code",
   "execution_count": 61,
   "metadata": {},
   "outputs": [
    {
     "name": "stdout",
     "output_type": "stream",
     "text": [
      "{2, 4, 5, 7, 9}\n",
      "{2, 4, 5, 7, 9, 10}\n",
      "{2, 4, 5, 7, 9, 10}\n",
      "{2, 4, 5, 7, 9, 10, 'Hello'}\n"
     ]
    }
   ],
   "source": [
    "# set.add()\n",
    "\n",
    "my_set = {2, 5, 4, 7, 9}\n",
    "print(my_set)\n",
    "\n",
    "my_set.add(10)\n",
    "print(my_set)\n",
    "\n",
    "my_set.add(9)\n",
    "print(my_set)\n",
    "\n",
    "my_set.add('Hello')\n",
    "print(my_set)\n",
    "\n",
    "\n"
   ]
  },
  {
   "cell_type": "markdown",
   "metadata": {},
   "source": [
    "##### .remove()"
   ]
  },
  {
   "cell_type": "code",
   "execution_count": 62,
   "metadata": {},
   "outputs": [
    {
     "name": "stdout",
     "output_type": "stream",
     "text": [
      "{2, 4, 5, 7, 9, 10, 'Hello'}\n",
      "{4, 5, 7, 9, 10, 'Hello'}\n"
     ]
    }
   ],
   "source": [
    "# removes by value\n",
    "# set.remove()\n",
    "\n",
    "print(my_set)\n",
    "my_set.remove(2)\n",
    "print(my_set)\n"
   ]
  },
  {
   "cell_type": "markdown",
   "metadata": {},
   "source": [
    "##### .union() "
   ]
  },
  {
   "cell_type": "code",
   "execution_count": 63,
   "metadata": {},
   "outputs": [
    {
     "name": "stdout",
     "output_type": "stream",
     "text": [
      "{1, 2, 3, 4, 5, 6}\n",
      "{1, 2, 3, 4, 5, 6}\n"
     ]
    }
   ],
   "source": [
    "# Returns a union of two sets, can also use '|' or set.union(set)\n",
    "# joins all numbers, gets rid of duplicates\n",
    "\n",
    "set_1 = {1, 2, 3, 4}\n",
    "set_2 = {3, 4, 5, 6}\n",
    "set_3 = set_1.union(set_2)\n",
    "\n",
    "print(set_3)\n",
    "\n",
    "#or \n",
    "\n",
    "set_4 = set_1 | set_2\n",
    "\n",
    "print(set_4)\n"
   ]
  },
  {
   "cell_type": "markdown",
   "metadata": {},
   "source": [
    "##### .intersection()"
   ]
  },
  {
   "cell_type": "code",
   "execution_count": 67,
   "metadata": {},
   "outputs": [
    {
     "name": "stdout",
     "output_type": "stream",
     "text": [
      "{3, 4}\n",
      "{3, 4}\n"
     ]
    }
   ],
   "source": [
    "# Returns an intersection of two sets, can also use '&'\n",
    "# only takes similar elements from both sets\n",
    "\n",
    "\n",
    "set_1 = {1, 2, 3, 4}\n",
    "set_2 = {3, 4, 5, 6}\n",
    "set_3 = set_1.intersection(set_2)\n",
    "\n",
    "print(set_3)\n",
    "\n",
    "#or\n",
    "\n",
    "set_4 = set_1 & set_2\n",
    "\n",
    "print(set_4)\n",
    "\n"
   ]
  },
  {
   "cell_type": "markdown",
   "metadata": {},
   "source": [
    "##### .difference()"
   ]
  },
  {
   "cell_type": "code",
   "execution_count": 72,
   "metadata": {},
   "outputs": [
    {
     "name": "stdout",
     "output_type": "stream",
     "text": [
      "{1, 2}\n",
      "{5, 6}\n",
      "{1, 2}\n",
      "{1, 2, 5, 6}\n"
     ]
    }
   ],
   "source": [
    "# Returns a set containing all the elements of invoking set that are not in the second set, can also use '-'\n",
    "# only takes values from the first set that are not in the second set\n",
    "# order matters\n",
    "\n",
    "\n",
    "set_1 = {1, 2, 3, 4}\n",
    "set_2 = {3, 4, 5, 6}\n",
    "set_3 = set_1.difference(set_2)\n",
    "\n",
    "print(set_3)\n",
    "\n",
    "set_1 = {1, 2, 3, 4}\n",
    "set_2 = {3, 4, 5, 6}\n",
    "set_3 = set_2.difference(set_1) #<-- notice order matters\n",
    "\n",
    "print(set_3)\n",
    "\n",
    "\n",
    "#or \n",
    "\n",
    "set_4 = set_1 - set_2\n",
    "set_5 = set_2 - set_1\n",
    "\n",
    "set_6 = set_4 | set_5\n",
    "\n",
    "print(set_4)\n",
    "print(set_6) #<-- prints all differences\n"
   ]
  },
  {
   "cell_type": "markdown",
   "metadata": {},
   "source": [
    "##### .clear()"
   ]
  },
  {
   "cell_type": "code",
   "execution_count": 74,
   "metadata": {},
   "outputs": [
    {
     "name": "stdout",
     "output_type": "stream",
     "text": [
      "{1, 2, 3, 4}\n",
      "[1, 2, 3, 4]\n",
      "[]\n"
     ]
    }
   ],
   "source": [
    "# Empties the whole set\n",
    "# set.clear()\n",
    "\n",
    "\n",
    "set_1 = {1, 2, 3, 4}\n",
    "print(set_1)\n",
    "#set_1.clear()\n",
    "#print(set_1)\n",
    "\n",
    "list_1 = list(set_1)\n",
    "print(list_1)\n",
    "list_1.clear()\n",
    "print(list_1)\n",
    "\n",
    "\n"
   ]
  },
  {
   "cell_type": "markdown",
   "metadata": {},
   "source": [
    "##### Frozenset <br>\n",
    "<p>Frozen sets are immutable objects that only support methods and operators that produce a result without affecting the frozen set or sets to which they are applied.</p><br><b>Unique & Immutable</b>"
   ]
  },
  {
   "cell_type": "code",
   "execution_count": 77,
   "metadata": {},
   "outputs": [
    {
     "name": "stdout",
     "output_type": "stream",
     "text": [
      "{2, 3, 4, 5, 8, 'hello', 'my dog is neat'}\n",
      "{2, 3, 4, 5, 'Rangers 127 are also neat', 8, 'hello', 'my dog is neat'}\n",
      "frozenset({2, 3, 4, 5, 'Rangers 127 are also neat', 8, 'hello', 'my dog is neat'})\n",
      "{2, 3, 4, 5, 'Rangers 127 are also neat', 8, 'hello', 'my dog is neat'}\n",
      "{2, 3, 4, 5, 'Rangers 127 are also neat', 8, 'hello', 'my dog is neat'}\n"
     ]
    }
   ],
   "source": [
    "# frozenset([])\n",
    "\n",
    "my_set = {2, 3, 4, 'hello', 8, 'my dog is neat', 5}\n",
    "print(my_set)\n",
    "\n",
    "my_set.add ('Rangers 127 are also neat')\n",
    "print(my_set)\n",
    "\n",
    "frozen_set = frozenset(my_set)\n",
    "print(frozen_set)\n",
    "\n",
    "#frozen_set.add(8)\n",
    "\n",
    "my_set2 = set(frozen_set)\n",
    "print(my_set2)\n",
    "\n",
    "my_set.add(8)\n",
    "print(my_set2)"
   ]
  },
  {
   "cell_type": "markdown",
   "metadata": {},
   "source": [
    "# Exercises"
   ]
  },
  {
   "cell_type": "markdown",
   "metadata": {},
   "source": [
    "### 1) Build a Shopping Cart <br>\n",
    "<p><b>You can use either lists or dictionaries. The program should have the following capabilities:</b><br><br>\n",
    "1) Takes in input <br>\n",
    "2) Stores user input into a dictionary or list <br>\n",
    "3) The User can add or delete items <br>\n",
    "4) The User can see current shopping list <br>\n",
    "5) The program Loops until user 'quits' <br>\n",
    "6) Upon quiting the program, print out all items in the user's list <br>\n",
    "</p>"
   ]
  },
  {
   "cell_type": "code",
   "execution_count": 15,
   "metadata": {},
   "outputs": [
    {
     "name": "stdin",
     "output_type": "stream",
     "text": [
      "Do you want to : Show/Add/Delete or Quit?:  hello\n"
     ]
    },
    {
     "name": "stdout",
     "output_type": "stream",
     "text": [
      "Invalid response, please input the following (Show/Add/Delete or Quit)\n"
     ]
    },
    {
     "name": "stdin",
     "output_type": "stream",
     "text": [
      "Do you want to : Show/Add/Delete or Quit?:  add\n",
      "What would you like to add to your Shopping Cart?:  water\n",
      "Do you want to : Show/Add/Delete or Quit?:  add\n",
      "What would you like to add to your Shopping Cart?:  milk\n",
      "Do you want to : Show/Add/Delete or Quit?:  add\n",
      "What would you like to add to your Shopping Cart?:  eggs\n",
      "Do you want to : Show/Add/Delete or Quit?:  show\n"
     ]
    },
    {
     "name": "stdout",
     "output_type": "stream",
     "text": [
      "['water', 'milk', 'eggs']\n"
     ]
    },
    {
     "name": "stdin",
     "output_type": "stream",
     "text": [
      "Do you want to : Show/Add/Delete or Quit?:  delete\n",
      "What would you like to delete from your Shopping Cart?:  milk\n",
      "Do you want to : Show/Add/Delete or Quit?:  show\n"
     ]
    },
    {
     "name": "stdout",
     "output_type": "stream",
     "text": [
      "['water', 'eggs']\n"
     ]
    },
    {
     "name": "stdin",
     "output_type": "stream",
     "text": [
      "Do you want to : Show/Add/Delete or Quit?:  quit\n"
     ]
    },
    {
     "name": "stdout",
     "output_type": "stream",
     "text": [
      "['water', 'eggs']\n"
     ]
    }
   ],
   "source": [
    "from IPython.display import clear_output\n",
    "\n",
    "list = []\n",
    "while True:\n",
    "    user = input(\"Do you want to : Show/Add/Delete or Quit?: \").lower()\n",
    "\n",
    "    if user == \"show\":\n",
    "        print(list)\n",
    "    elif user == \"add\":\n",
    "        item = input(\"What would you like to add to your Shopping Cart?: \").lower()\n",
    "        list.append(item)\n",
    "    elif user == \"delete\":\n",
    "        list.remove(input(\"What would you like to delete from your Shopping Cart?: \").lower())\n",
    "    elif user == \"quit\":\n",
    "        print(list)\n",
    "        break\n",
    "    else:\n",
    "        print(\"Invalid response, please input the following (Show/Add/Delete or Quit)\")\n",
    "    \n",
    "# Ask the user four bits of input: Do you want to : Show/Add/Delete or Quit?\n"
   ]
  },
  {
   "cell_type": "markdown",
   "metadata": {},
   "source": [
    "### 2) Set Practice"
   ]
  },
  {
   "cell_type": "markdown",
   "metadata": {},
   "source": [
    "<p><b>Remove all duplicates from the following list</b></p>"
   ]
  },
  {
   "cell_type": "code",
   "execution_count": 84,
   "metadata": {},
   "outputs": [
    {
     "name": "stdout",
     "output_type": "stream",
     "text": [
      "{1, 2, 3, 4, 5, 6, 11, 12, 14, 16}\n"
     ]
    }
   ],
   "source": [
    "nums_list = [1, 1, 1, 2, 2, 3, 5, 6, 4, 12, 11, 12, 12, 14, 16, 16, 16, 1, 1, 1, 2, 2]\n",
    "\n",
    "my_list = set(nums_list)\n",
    "\n",
    "print(my_list)"
   ]
  },
  {
   "cell_type": "markdown",
   "metadata": {},
   "source": [
    "<p><b>Out put the intersection of the following the following sets.</b></p>"
   ]
  },
  {
   "cell_type": "code",
   "execution_count": 81,
   "metadata": {},
   "outputs": [
    {
     "name": "stdout",
     "output_type": "stream",
     "text": [
      "{26, 27}\n"
     ]
    }
   ],
   "source": [
    "set1 = {20, 24, 26, 27}\n",
    "set2 = {26, 35, 63, 27}\n",
    "\n",
    "set3 = set1 & set2\n",
    "\n",
    "print(set3)\n"
   ]
  },
  {
   "cell_type": "markdown",
   "metadata": {},
   "source": [
    "<p><b>Output the difference between the following sets</b></p>"
   ]
  },
  {
   "cell_type": "code",
   "execution_count": 6,
   "metadata": {},
   "outputs": [
    {
     "name": "stdout",
     "output_type": "stream",
     "text": [
      "{89, 100, 54, 103}\n"
     ]
    }
   ],
   "source": [
    "set3 = {100, 65, 89, 200}\n",
    "set4 = {65, 103, 54, 200}\n",
    "\n",
    "set5 = set3 - set4\n",
    "set6 = set4 - set3\n",
    "\n",
    "set7 = set5 | set6\n",
    "\n",
    "print(set7)"
   ]
  },
  {
   "cell_type": "code",
   "execution_count": null,
   "metadata": {},
   "outputs": [],
   "source": []
  }
 ],
 "metadata": {
  "kernelspec": {
   "display_name": "Python 3 (ipykernel)",
   "language": "python",
   "name": "python3"
  },
  "language_info": {
   "codemirror_mode": {
    "name": "ipython",
    "version": 3
   },
   "file_extension": ".py",
   "mimetype": "text/x-python",
   "name": "python",
   "nbconvert_exporter": "python",
   "pygments_lexer": "ipython3",
   "version": "3.11.4"
  }
 },
 "nbformat": 4,
 "nbformat_minor": 4
}
