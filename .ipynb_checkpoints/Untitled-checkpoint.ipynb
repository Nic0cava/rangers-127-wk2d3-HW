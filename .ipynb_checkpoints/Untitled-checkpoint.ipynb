{
 "cells": [
  {
   "cell_type": "code",
   "execution_count": 17,
   "id": "9bc56b2f-c028-4129-9bd8-a007362afda2",
   "metadata": {},
   "outputs": [
    {
     "name": "stdout",
     "output_type": "stream",
     "text": [
      "CATA\n"
     ]
    }
   ],
   "source": [
    "\n",
    "#dict = { 'A' : 'T' , 'C' : 'G' }\n",
    "def my_func(dna):\n",
    "    s = ''\n",
    "    for i in dna:\n",
    "        if i == 'A':\n",
    "           s += ('T')\n",
    "        elif i == 'C':\n",
    "            s += ('G')\n",
    "        elif i == 'T':\n",
    "            s += ('A')\n",
    "        elif i == 'G':\n",
    "            s += ('C')\n",
    "    return s\n",
    "            \n",
    "dna = \"GTAT\"\n",
    "print(my_func(dna))\n",
    "        \n"
   ]
  },
  {
   "cell_type": "code",
   "execution_count": null,
   "id": "cfd43722-f5b3-4394-9c81-fd1df06964f1",
   "metadata": {},
   "outputs": [],
   "source": [
    "list = [17, 17, 3, 17, 17, 17, 17]\n",
    "new_list = set(list)\n",
    "print(new_list)"
   ]
  }
 ],
 "metadata": {
  "kernelspec": {
   "display_name": "Python 3 (ipykernel)",
   "language": "python",
   "name": "python3"
  },
  "language_info": {
   "codemirror_mode": {
    "name": "ipython",
    "version": 3
   },
   "file_extension": ".py",
   "mimetype": "text/x-python",
   "name": "python",
   "nbconvert_exporter": "python",
   "pygments_lexer": "ipython3",
   "version": "3.11.4"
  }
 },
 "nbformat": 4,
 "nbformat_minor": 5
}
